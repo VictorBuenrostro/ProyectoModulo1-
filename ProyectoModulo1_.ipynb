{
 "cells": [
  {
   "cell_type": "markdown",
   "metadata": {},
   "source": [
    "Imaginamos que la empresa FRIGOCON tiene 3 plantas en Alicante, Valencia y Castellón encargadas de la fabricación de frigoríficos. Sus centros de distribución se encuentran en Catarroja y Denia.\n",
    "\n",
    "Las capacidades semanales de las 3 plantas son respectivamente:\n",
    "\n",
    "<table style=\"width:20%; text-align:center;\">\n",
    "    <tr>\n",
    "        <td>P. Alicante</td>\n",
    "        <td>1000</td>\n",
    "    </tr>\n",
    "    <tr>\n",
    "        <td>P. Valencia</td>\n",
    "        <td>1300</td>\n",
    "    </tr>\n",
    "    <tr>\n",
    "        <td>P. Castellón</td>\n",
    "        <td>1400</td>\n",
    "    </tr>\n",
    "    <tr>\n",
    "        <th>Total</th>\n",
    "        <th>3700</th>\n",
    "    </tr>\n",
    "</table>\n",
    "\n",
    "Las demandas a la semana de los dos centros de distribución:\n",
    "\n",
    "<table style=\"width:20%\">\n",
    "    <tr>\n",
    "        <td>P. Catarroja</td>\n",
    "        <td>2100</td>\n",
    "    </tr>\n",
    "    <tr>\n",
    "        <td>P. Denia</td>\n",
    "        <td>1600</td>\n",
    "    </tr>\n",
    "    <tr>\n",
    "        <th>Total</th>\n",
    "        <th>3700</th>\n",
    "    </tr>\n",
    "</table>\n",
    "\n",
    "Las distancias en kilómetros entre las plantas y los centros de distribución son:\n",
    "\n",
    "<table style=\"width:20%\">\n",
    "    <tr>\n",
    "        <td></td>\n",
    "        <th>Catarroja</th>\n",
    "        <th>Denia</th>\n",
    "    </tr>\n",
    "    <tr>\n",
    "        <th>Alicante</th>\n",
    "        <td>170</td>\n",
    "        <td>90</td>\n",
    "    </tr>\n",
    "    <tr>\n",
    "        <th>Alicante</th>\n",
    "        <td>15</td>\n",
    "        <td>105</td>\n",
    "    </tr>\n",
    "    <tr>\n",
    "        <th>Castellón</th>\n",
    "        <td>90</td>\n",
    "        <td>190</td>\n",
    "    </tr>\n",
    "</table>\n",
    "\n",
    "La compañía de transporte nos cobra 5 cent/km, así que, los costes de transporte por frigorífico entre cada dos nodos serían: \n",
    "\n",
    "<table style=\"width:20%\">\n",
    "    <tr>\n",
    "        <td></td>\n",
    "        <th>Catarroja</th>\n",
    "        <th>Denia</th>\n",
    "    </tr>\n",
    "    <tr>\n",
    "        <th>Alicante</th>\n",
    "        <td>8.5</td>\n",
    "        <td>4.5</td>\n",
    "    </tr>\n",
    "    <tr>\n",
    "        <th>Alicante</th>\n",
    "        <td>0.75</td>\n",
    "        <td>5.25</td>\n",
    "    </tr>\n",
    "    <tr>\n",
    "        <th>Castellón</th>\n",
    "        <td>4.5</td>\n",
    "        <td>9.5</td>\n",
    "    </tr>\n",
    "</table>\n",
    "\n",
    "Sea xij el nº de frigoríficos enviados desde el origen i al destino j. \n",
    "\n",
    "El problema quedaría:\n",
    "\n",
    "𝑀𝑖𝑛 8,5𝑥<sub>11</sub> + 4,5𝑥<sub>12</sub> + 0,75𝑥<sub>21</sub> + 5,25𝑥<sub>22</sub> + 4,5𝑥<sub>31</sub> + 9,5𝑥<sub>32</sub>\n",
    "\n",
    "𝑠. 𝑎\n",
    "\n",
    "𝑥<sub>11</sub> + 𝑥<sub>12</sub> = 1000\n",
    "\n",
    "𝑥<sub>21</sub> + 𝑥<sub>22</sub> = 1300\n",
    "\n",
    "𝑥<sub>31</sub> + 𝑥<sub>32</sub> = 1400\n",
    "\n",
    "𝑥<sub>11</sub> + 𝑥<sub>21</sub> + 𝑥<sub>31</sub> = 2100\n",
    "\n",
    "𝑥<sub>12</sub> + 𝑥<sub>22</sub> + 𝑥<sub>32</sub> = 1600\n",
    "\n",
    "𝑥<sub>ij</sub> ≥ 0\n",
    "\n",
    "En este caso las restricciones se pueden escribir con igualdad porque la suma de las ofertas es igual a la suma de demandas."
   ]
  },
  {
   "cell_type": "markdown",
   "metadata": {},
   "source": [
    "# Instalación de la librería a utilizar"
   ]
  },
  {
   "cell_type": "code",
   "execution_count": null,
   "metadata": {},
   "outputs": [],
   "source": [
    "%pip install scipy"
   ]
  },
  {
   "cell_type": "code",
   "execution_count": null,
   "metadata": {},
   "outputs": [],
   "source": [
    "%pip install matplotlib"
   ]
  },
  {
   "cell_type": "markdown",
   "metadata": {},
   "source": [
    "#### Importar las funciones de la librería"
   ]
  },
  {
   "cell_type": "code",
   "execution_count": 37,
   "metadata": {},
   "outputs": [],
   "source": [
    "import scipy.optimize as opt\n",
    "import numpy as np"
   ]
  },
  {
   "cell_type": "markdown",
   "metadata": {},
   "source": [
    "## Declaración de variables en array para resolver"
   ]
  },
  {
   "cell_type": "markdown",
   "metadata": {},
   "source": [
    "#### Array costos\n",
    "Se ponen los valores de costos en orden\n",
    "\n",
    "    alicante_catarroja, alicante_denia, valencia_catarroja, valencia_denia, castellon_catarroja, castellon_denia\n",
    "    \n",
    "#### Array AUB\n",
    "Los valores se colocan con respecto a las restricciones en orden comenzando por las restricciones de demanda que restan.\n",
    "\n",
    "[-𝑥<sub>31</sub> , -𝑥<sub>32</sub> , 𝑥<sub>11</sub> , 𝑥<sub>12</sub> , 𝑥<sub>21</sub> , 𝑥<sub>22</sub>]\n",
    "\n",
    "#### Array BUB\n",
    "Los valores se colocan con respecto a las demandas y produccion comenzando por la demanda que resta.\n",
    "\n",
    "    -demanda_catarroja, -demanda_denia, produccion_alicante, produccion_valencia, produccion_castellon"
   ]
  },
  {
   "cell_type": "code",
   "execution_count": 9,
   "metadata": {},
   "outputs": [],
   "source": [
    "costos = np.array([8.5,4.5,0.75,5.25,4.5,9.5])\n",
    "\n",
    "AUB = np.array([[-1,0,-1,0,-1,0],[0,-1,0,-1,0,-1],[1,1,0,0,0,0],[0,0,1,1,0,0],[0,0,0,0,1,1]])\n",
    "\n",
    "BUB = np.array([-2100,-1600,1000,1300,1400])"
   ]
  },
  {
   "cell_type": "markdown",
   "metadata": {},
   "source": [
    "## Resolver la optimización usando la funcion linprog de Scipy"
   ]
  },
  {
   "cell_type": "code",
   "execution_count": 10,
   "metadata": {},
   "outputs": [],
   "source": [
    "frigocon = opt.linprog(costos, AUB, BUB, method='simplex')"
   ]
  },
  {
   "cell_type": "markdown",
   "metadata": {},
   "source": [
    "## Imprimir las cantidades óptimas y el costo mínimo"
   ]
  },
  {
   "cell_type": "code",
   "execution_count": 42,
   "metadata": {},
   "outputs": [
    {
     "name": "stdout",
     "output_type": "stream",
     "text": [
      "Solución óptima encontrada:\n",
      "--------------------------------------------------\n",
      "De Alicante a:  Catarroja ->    0 , Denia -> 1000\n",
      "De Valencia a:  Catarroja ->  700 , Denia ->  600\n",
      "De Castellón a: Catarroja -> 1400 , Denia ->    0\n",
      "--------------------------------------------------\n",
      "Costo mínimo: 14475.0\n"
     ]
    }
   ],
   "source": [
    "costo_minimo = 0\n",
    "for i in range(len(frigocon.x)):\n",
    "    costo_minimo += frigocon.x[i] * costos[i]\n",
    "    \n",
    "print('Solución óptima encontrada:\\n--------------------------------------------------\\nDe Alicante a:  Catarroja -> {0:4.0f} , Denia -> {1:4.0f}\\nDe Valencia a:  Catarroja -> {2:4.0f} , Denia -> {3:4.0f}\\nDe Castellón a: Catarroja -> {4:4.0f} , Denia -> {5:4.0f}\\n--------------------------------------------------\\nCosto mínimo: {6}'.format(frigocon.x[0],frigocon.x[1],frigocon.x[2],frigocon.x[3],frigocon.x[4],frigocon.x[5],costo_minimo))   "
   ]
  },
  {
   "cell_type": "code",
   "execution_count": null,
   "metadata": {},
   "outputs": [],
   "source": []
  }
 ],
 "metadata": {
  "kernelspec": {
   "display_name": "Python 3",
   "language": "python",
   "name": "python3"
  },
  "language_info": {
   "codemirror_mode": {
    "name": "ipython",
    "version": 3
   },
   "file_extension": ".py",
   "mimetype": "text/x-python",
   "name": "python",
   "nbconvert_exporter": "python",
   "pygments_lexer": "ipython3",
   "version": "3.8.1"
  }
 },
 "nbformat": 4,
 "nbformat_minor": 4
}
